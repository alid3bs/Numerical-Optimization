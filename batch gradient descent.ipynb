{
 "cells": [
  {
   "cell_type": "code",
   "execution_count": 4,
   "id": "808b7085",
   "metadata": {},
   "outputs": [],
   "source": [
    "import numpy as np\n",
    "import matplotlib.pyplot as plt \n",
    "from IPython.display import clear_output\n",
    "import pandas as pd\n",
    "import time\n",
    "import sklearn.metrics\n",
    "import seaborn as sns\n",
    "%matplotlib inline"
   ]
  },
  {
   "cell_type": "markdown",
   "id": "4947edd4",
   "metadata": {},
   "source": [
    "# GD Iteration Implemetation"
   ]
  },
  {
   "cell_type": "code",
   "execution_count": 5,
   "id": "2a6b84cf",
   "metadata": {},
   "outputs": [],
   "source": [
    "def batch_gd(x_data, y_data, theta_0, theta_1, learning_rate, epoch):\n",
    "    #theta_0,theta_1 are been assumed by 0\n",
    "    \n",
    "    error=[]    #list of cost function for every iteration\n",
    "    theta_00=[]  #list of theta_0 function for every iteration\n",
    "    theta_11=[]  #list of theta_1 function for every iteration\n",
    "    gradient_vector=[]\n",
    "    \n",
    "    m= len(x_data) # number of observations\n",
    "    \n",
    "    for i in range(epoch): \n",
    "        \n",
    "        if len(error) > 2:\n",
    "            \n",
    "            if error[-2] - error[-1] < 0.001:\n",
    "                return error, theta_00, theta_11\n",
    "            elif np.dot(np.array(error[-2]), np.array(error[-2]))- np.dot(np.array(error[-1]), np.array(error[-1])) < 0.001:\n",
    "                return error, theta_00, theta_11\n",
    "            \n",
    "            \n",
    "        h = theta_1*x_data+theta_0 # hypothesis fuction\n",
    "        j= 1/(2*m)*sum((h-y_data)**2) #calculating the cost fuction \n",
    "        \n",
    "        plt.scatter(x_data, y_data) #ploting the data\n",
    "        clear_output(wait=True)\n",
    "        \n",
    "        plt.plot([0,15],[(theta_1*0 + theta_0), (theta_1*15 + theta_0)]) #ploting a line\n",
    "        r2_score = sklearn.metrics.r2_score(y_data,h) #calculating r2 score for every epoch\n",
    "        \n",
    "        print(\"intercept= \"+str(theta_0),\"slope= \"+str(theta_1),\"cost function= \"+str(j),\n",
    "                      \"r2_score= \"+str(r2_score),sep=\"\\n\")\n",
    "        print(\"iter no.= \"+ str(i))\n",
    "        \n",
    "        plt.xlabel(\"x_data\")\n",
    "        plt.ylabel(\"y_data\")\n",
    "        plt.title(\"plotting a line with different parameters (theta_0,theta_1)\")\n",
    "        plt.show()\n",
    "        time.sleep(0.1)\n",
    "        \n",
    "        #Update the parameters (simultaneously)\n",
    "        theta_0 = theta_0-(learning_rate*(1/m)*sum(h-y_data)) \n",
    "        theta_1 = theta_1-(learning_rate*(1/m)*sum((h-y_data)*x_data))\n",
    "        error.append(j)\n",
    "        theta_00.append(theta_0)\n",
    "        theta_11.append(theta_1)\n",
    "        gradient_vector.append([theta_0, theta_1])\n",
    "\n",
    "    return error, theta_00, theta_11"
   ]
  },
  {
   "cell_type": "code",
   "execution_count": 6,
   "id": "d73907ee",
   "metadata": {},
   "outputs": [
    {
     "data": {
      "text/html": [
       "<div>\n",
       "<style scoped>\n",
       "    .dataframe tbody tr th:only-of-type {\n",
       "        vertical-align: middle;\n",
       "    }\n",
       "\n",
       "    .dataframe tbody tr th {\n",
       "        vertical-align: top;\n",
       "    }\n",
       "\n",
       "    .dataframe thead th {\n",
       "        text-align: right;\n",
       "    }\n",
       "</style>\n",
       "<table border=\"1\" class=\"dataframe\">\n",
       "  <thead>\n",
       "    <tr style=\"text-align: right;\">\n",
       "      <th></th>\n",
       "      <th>x</th>\n",
       "      <th>y</th>\n",
       "    </tr>\n",
       "  </thead>\n",
       "  <tbody>\n",
       "    <tr>\n",
       "      <th>0</th>\n",
       "      <td>2.9</td>\n",
       "      <td>4.0</td>\n",
       "    </tr>\n",
       "    <tr>\n",
       "      <th>1</th>\n",
       "      <td>6.7</td>\n",
       "      <td>7.4</td>\n",
       "    </tr>\n",
       "    <tr>\n",
       "      <th>2</th>\n",
       "      <td>4.9</td>\n",
       "      <td>5.0</td>\n",
       "    </tr>\n",
       "    <tr>\n",
       "      <th>3</th>\n",
       "      <td>7.9</td>\n",
       "      <td>7.2</td>\n",
       "    </tr>\n",
       "    <tr>\n",
       "      <th>4</th>\n",
       "      <td>9.8</td>\n",
       "      <td>7.9</td>\n",
       "    </tr>\n",
       "  </tbody>\n",
       "</table>\n",
       "</div>"
      ],
      "text/plain": [
       "     x    y\n",
       "0  2.9  4.0\n",
       "1  6.7  7.4\n",
       "2  4.9  5.0\n",
       "3  7.9  7.2\n",
       "4  9.8  7.9"
      ]
     },
     "execution_count": 6,
     "metadata": {},
     "output_type": "execute_result"
    }
   ],
   "source": [
    "df = pd.read_csv('RegData.csv')\n",
    "df.head()"
   ]
  },
  {
   "cell_type": "code",
   "execution_count": 14,
   "id": "3d1912a0",
   "metadata": {},
   "outputs": [
    {
     "data": {
      "text/plain": [
       "0.04312676091512072"
      ]
     },
     "execution_count": 14,
     "metadata": {},
     "output_type": "execute_result"
    }
   ],
   "source": [
    "np.dot(np.array(error[-2]), np.array(error[-2]))"
   ]
  },
  {
   "cell_type": "code",
   "execution_count": 8,
   "id": "18dd1aa8",
   "metadata": {},
   "outputs": [
    {
     "name": "stdout",
     "output_type": "stream",
     "text": [
      "intercept= 0.14642122030015128\n",
      "slope= 0.8810491917823567\n",
      "cost function= 0.20537001219738432\n",
      "r2_score= 0.7423919629959154\n",
      "iter no.= 19\n"
     ]
    },
    {
     "data": {
      "image/png": "[encoded data removed]",
      "text/plain": [
       "<Figure size 432x288 with 1 Axes>"
      ]
     },
     "metadata": {
      "needs_background": "light"
     },
     "output_type": "display_data"
    }
   ],
   "source": [
    "x = np.array(df['x'])\n",
    "y = np.array(df['y'])\n",
    "\n",
    "theta_0=0\n",
    "theta_1=0\n",
    "learning_rate=0.005\n",
    "epoch = 100\n",
    "error, theta_00, theta_11=batch_gd(x, y, theta_0, theta_1, learning_rate, epoch)"
   ]
  },
  {
   "cell_type": "code",
   "execution_count": 9,
   "id": "1100fb21",
   "metadata": {},
   "outputs": [
    {
     "data": {
      "text/plain": [
       "Text(0, 0.5, 'cost_function(j)')"
      ]
     },
     "execution_count": 9,
     "metadata": {},
     "output_type": "execute_result"
    },
    {
     "data": {
      "image/png": "[encoded data removed]",
      "text/plain": [
       "<Figure size 432x288 with 1 Axes>"
      ]
     },
     "metadata": {
      "needs_background": "light"
     },
     "output_type": "display_data"
    }
   ],
   "source": [
    "plt.scatter(np.arange(0,len(error)), error)\n",
    "plt.title(\"cost_function vs iteration\")\n",
    "plt.xlabel(\"epoch\")\n",
    "plt.ylabel(\"cost_function(j)\")"
   ]
  },
  {
   "cell_type": "code",
   "execution_count": 10,
   "id": "136dba40",
   "metadata": {},
   "outputs": [
    {
     "data": {
      "image/png": "[encoded data removed]",
      "text/plain": [
       "<Figure size 432x288 with 1 Axes>"
      ]
     },
     "metadata": {
      "needs_background": "light"
     },
     "output_type": "display_data"
    }
   ],
   "source": [
    "plt.scatter(theta_00, error)\n",
    "plt.title(\"cost_function vs theta_0\")\n",
    "plt.ylabel(\"cost_function(j)\")\n",
    "plt.xlabel(\"theta_0\");"
   ]
  },
  {
   "cell_type": "code",
   "execution_count": 11,
   "id": "3fb34cbf",
   "metadata": {},
   "outputs": [
    {
     "data": {
      "text/plain": [
       "Text(0.5, 0, 'theta_1')"
      ]
     },
     "execution_count": 11,
     "metadata": {},
     "output_type": "execute_result"
    },
    {
     "data": {
      "image/png": "[encoded data removed]",
      "text/plain": [
       "<Figure size 432x288 with 1 Axes>"
      ]
     },
     "metadata": {
      "needs_background": "light"
     },
     "output_type": "display_data"
    }
   ],
   "source": [
    "plt.scatter(theta_11, error)\n",
    "plt.title(\"cost_function vs theta_1\")\n",
    "plt.ylabel(\"cost_function(j)\")\n",
    "plt.xlabel(\"theta_1\")"
   ]
  },
  {
   "cell_type": "markdown",
   "id": "5d01d079",
   "metadata": {},
   "source": [
    "# GD vectorize Implementation"
   ]
  },
  {
   "cell_type": "code",
   "execution_count": 16,
   "id": "b0486422",
   "metadata": {},
   "outputs": [],
   "source": [
    "def batch_gd_vact(x_data, y_data, theta_0, theta_1, learning_rate, epoch):\n",
    "    #theta_0,theta_1 are been assumed by 0\n",
    "    \n",
    "    error=[]    #list of cost function for every iteration\n",
    "    theta_00=[]  #list of theta_0 function for every iteration\n",
    "    theta_11=[]  #list of theta_1 function for every iteration\n",
    "    \n",
    "    m= len(x_data) # number of observations\n",
    "    \n",
    "    for i in range(epoch): \n",
    "        \n",
    "        if len(error) > 2:\n",
    "            if error[-2] - error[-1] < 0.001:\n",
    "                return error, theta_00, theta_11\n",
    "        \n",
    "        h = theta_1*x_data+theta_0 # hypothesis fuction\n",
    "        e = h-y_data #error\n",
    "        \n",
    "        j= 1/(2*m)*np.dot(e,e) #calculating the cost fuction \n",
    "        \n",
    "        plt.scatter(x_data, y_data) #ploting the data\n",
    "        clear_output(wait=True)\n",
    "        \n",
    "        plt.plot([0,15],[(theta_1*0 + theta_0), (theta_1*15 + theta_0)]) #ploting a line\n",
    "        r2_score = sklearn.metrics.r2_score(y_data,h) #calculating r2 score for every epoch\n",
    "        \n",
    "        print(\"intercept= \"+str(theta_0),\"slope= \"+str(theta_1),\"cost function= \"+str(j),\n",
    "                      \"r2_score= \"+str(r2_score),sep=\"\\n\")\n",
    "        print(\"iter no.= \"+ str(i))\n",
    "        \n",
    "        plt.xlabel(\"x_data\")\n",
    "        plt.ylabel(\"y_data\")\n",
    "        plt.title(\"plotting a line with different parameters (theta_0,theta_1)\")\n",
    "        plt.show()\n",
    "        time.sleep(0.1)\n",
    "        \n",
    "        #Update the parameters (simultaneously)\n",
    "        e = h-y_data #error\n",
    "        theta_0 = theta_0-(learning_rate*(1/m)*np.sum(e))\n",
    "        theta_1 = theta_1-(learning_rate*(1/m)*np.dot(e,x_data))\n",
    "        error.append(j)\n",
    "        theta_00.append(theta_0)\n",
    "        theta_11.append(theta_1)\n",
    "        \n",
    "\n",
    "    return error, theta_00, theta_11"
   ]
  },
  {
   "cell_type": "code",
   "execution_count": 17,
   "id": "2a7a8e73",
   "metadata": {},
   "outputs": [
    {
     "name": "stdout",
     "output_type": "stream",
     "text": [
      "intercept= 0.1466083616177742\n",
      "slope= 0.8851638413332045\n",
      "cost function= 0.20340751178872754\n",
      "r2_score= 0.7448536460453759\n",
      "iter no.= 9\n"
     ]
    },
    {
     "data": {
      "image/png": "[encoded data removed]",
      "text/plain": [
       "<Figure size 432x288 with 1 Axes>"
      ]
     },
     "metadata": {
      "needs_background": "light"
     },
     "output_type": "display_data"
    }
   ],
   "source": [
    "x = np.array(df['x'])\n",
    "y = np.array(df['y'])\n",
    "\n",
    "theta_0=0\n",
    "theta_1=0\n",
    "learning_rate=0.01\n",
    "epoch = 10\n",
    "error, theta_00, theta_11=batch_gd_vact(x, y, theta_0, theta_1, learning_rate, epoch)"
   ]
  },
  {
   "cell_type": "code",
   "execution_count": null,
   "id": "ef500521",
   "metadata": {},
   "outputs": [],
   "source": []
  },
  {
   "cell_type": "code",
   "execution_count": null,
   "id": "c4ec87f0",
   "metadata": {},
   "outputs": [],
   "source": []
  }
 ],
 "metadata": {
  "kernelspec": {
   "display_name": "Python 3 (ipykernel)",
   "language": "python",
   "name": "python3"
  },
  "language_info": {
   "codemirror_mode": {
    "name": "ipython",
    "version": 3
   },
   "file_extension": ".py",
   "mimetype": "text/x-python",
   "name": "python",
   "nbconvert_exporter": "python",
   "pygments_lexer": "ipython3",
   "version": "3.9.7"
  }
 },
 "nbformat": 4,
 "nbformat_minor": 5
}
